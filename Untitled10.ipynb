{
  "cells": [
    {
      "cell_type": "markdown",
      "metadata": {
        "id": "view-in-github",
        "colab_type": "text"
      },
      "source": [
        "<a href=\"https://colab.research.google.com/github/NishantRao841/if-else-questions/blob/main/Untitled10.ipynb\" target=\"_parent\"><img src=\"https://colab.research.google.com/assets/colab-badge.svg\" alt=\"Open In Colab\"/></a>"
      ]
    },
    {
      "cell_type": "code",
      "execution_count": null,
      "metadata": {
        "colab": {
          "background_save": true
        },
        "id": "nmTMgnXtk1W6",
        "outputId": "3ceeda97-4dce-4ff0-d432-c00e90e17d19"
      },
      "outputs": [
        {
          "name": "stdout",
          "output_type": "stream",
          "text": [
            "even\n"
          ]
        }
      ],
      "source": [
        "#  Write a program that takes an integer input from the user and checks whether the number is odd or even\n",
        "a=int(input('enter a number:'))\n",
        "if(a%2==0):\n",
        "  print('even')\n",
        "else:\n",
        "  print('odd')"
      ]
    },
    {
      "cell_type": "code",
      "execution_count": null,
      "metadata": {
        "colab": {
          "base_uri": "https://localhost:8080/"
        },
        "id": "H5MS1vBNj7NC",
        "outputId": "076ef538-e60c-4f0b-e0a5-4a99a33cba13"
      },
      "outputs": [
        {
          "name": "stdout",
          "output_type": "stream",
          "text": [
            "enter a year:2029\n",
            "not a leap year \n"
          ]
        }
      ],
      "source": [
        "#  Write a program to check if a given year is a leap year. A leap year is divisible by 4 but not by 100\n",
        "#  unless it is also divisible by 400.\n",
        "\n",
        "a = int(input(\"enter a year:\"))\n",
        "if(a%4==0 or a%400==0):\n",
        "  print(\"leap year\")\n",
        "else:\n",
        "  print(\"not a leap year \")"
      ]
    },
    {
      "cell_type": "code",
      "execution_count": null,
      "metadata": {
        "colab": {
          "base_uri": "https://localhost:8080/"
        },
        "id": "5Ou48pv5mhh_",
        "outputId": "70e33704-3877-4078-9f03-49a47ba04a63"
      },
      "outputs": [
        {
          "name": "stdout",
          "output_type": "stream",
          "text": [
            "enter percentage:59\n",
            "Grade F\n"
          ]
        }
      ],
      "source": [
        "# Write a program that takes a percentage (integer) as input and prints the corresponding grade based\n",
        "# on the following criteria:\n",
        "# >= 90: Grade A\n",
        "# # >= 80: Grade B\n",
        "# >= 70: Grade C\n",
        "# >= 60: Grade D\n",
        "# < 60: Grade F\n",
        "\n",
        "a = int(input(\"enter percentage:\"))\n",
        "if(a>=90):\n",
        "   print(\"Grade A\")\n",
        "elif(a>=80):\n",
        "     print(\"Grade B\")\n",
        "elif(a>=70):\n",
        "      print(\"Grade C\")\n",
        "elif(a>=60):\n",
        "      print(\"Grade D\")\n",
        "else:\n",
        "      print(\"Grade F\")"
      ]
    },
    {
      "cell_type": "code",
      "execution_count": null,
      "metadata": {
        "colab": {
          "base_uri": "https://localhost:8080/"
        },
        "id": "SKY6t7EFp4VM",
        "outputId": "8a4f4000-1ef3-48ee-ec13-ef4ec89ef5f4"
      },
      "outputs": [
        {
          "output_type": "stream",
          "name": "stdout",
          "text": [
            "enter a letter:g\n",
            "consonant\n"
          ]
        }
      ],
      "source": [
        "# Write a program that checks if a given letter is a vowel (a, e, i, o, u) or a consonant.\n",
        "\n",
        "a = input(\"enter a letter:\")\n",
        "if(a in ('a','e','i','0','u')):\n",
        "  print(\"vowel\")\n",
        "else:\n",
        "  print(\"consonant\")"
      ]
    },
    {
      "cell_type": "code",
      "execution_count": null,
      "metadata": {
        "colab": {
          "base_uri": "https://localhost:8080/"
        },
        "id": "5NMpmmBPr8Gt",
        "outputId": "0f253c62-5c7c-4bb2-ead7-32d97bf12c04"
      },
      "outputs": [
        {
          "name": "stdout",
          "output_type": "stream",
          "text": [
            "enter a number:0\n",
            "zero\n"
          ]
        }
      ],
      "source": [
        "#  Write a program that takes a number as input and checks whether it is positive, negative, or zero.\n",
        "\n",
        "a = int(input(\"enter a number:\"))\n",
        "if(a>0):\n",
        "  print(\"positive\")\n",
        "elif(a<0):\n",
        "  print(\"negative\")\n",
        "else:\n",
        "  print(\"zero\")\n",
        "\n",
        "\n"
      ]
    },
    {
      "cell_type": "code",
      "execution_count": null,
      "metadata": {
        "colab": {
          "base_uri": "https://localhost:8080/"
        },
        "id": "wZdXAqcvzMFm",
        "outputId": "bcc143e0-6e9b-46ef-fe9c-2d31316625a4"
      },
      "outputs": [
        {
          "name": "stdout",
          "output_type": "stream",
          "text": [
            "enter a number:4\n",
            "enter a number:9\n",
            "enter a number:2\n",
            "9\n"
          ]
        }
      ],
      "source": [
        "#  Write a program that takes three numbers as input and prints the largest of the three.\n",
        "\n",
        "a=int(input(\"enter a number:\"))\n",
        "b=int(input(\"enter a number:\"))\n",
        "c=int(input(\"enter a number:\"))\n",
        "if(a>b and a>c):\n",
        "  print(a)\n",
        "elif(b>a and b>c):\n",
        "  print(b)\n",
        "else:\n",
        "  print(c)"
      ]
    },
    {
      "cell_type": "code",
      "execution_count": null,
      "metadata": {
        "colab": {
          "base_uri": "https://localhost:8080/"
        },
        "id": "X9f0DcHU3row",
        "outputId": "6da95abf-82de-46da-8ccd-3c68af738f60"
      },
      "outputs": [
        {
          "name": "stdout",
          "output_type": "stream",
          "text": [
            "username:mahesh\n",
            "password:1234\n",
            "Login Failed\n"
          ]
        }
      ],
      "source": [
        "#  Write a program that checks if a username and password entered by the user match the pre-set values\n",
        "#  username = \"admin\" and password = \"1234\". If both match, print \"Login Successful\", otherwise print\n",
        "#  \"Login Failed\".\n",
        "\n",
        "a = input(\"username:\")\n",
        "b = int(input(\"password:\"))\n",
        "if(a== 'admin' and b==1234):\n",
        "  print(\"Login successful\")\n",
        "else:\n",
        "  print(\"Login Failed\")"
      ]
    },
    {
      "cell_type": "code",
      "execution_count": 1,
      "metadata": {
        "id": "mBGAbhXh6nbW",
        "colab": {
          "base_uri": "https://localhost:8080/"
        },
        "outputId": "aa45542b-f665-414b-aa99-96a6c4c468ce"
      },
      "outputs": [
        {
          "output_type": "stream",
          "name": "stdout",
          "text": [
            "enter your height1.71\n",
            "enter your weight:54\n",
            "Underweight\n"
          ]
        }
      ],
      "source": [
        "#  Write a program that calculates the Body Mass Index (BMI) based on user input for weight (in\n",
        "#  kilograms) and height (in meters). Then categorize the BMI into:\n",
        "#  Underweight (BMI < 18.5)\n",
        "#  Normal weight (18.5 <= BMI < 24.9)\n",
        "#  Overweight (25 <= BMI < 29.9)\n",
        "#  Obesity (BMI >= 30)\n",
        "#  Use the formula: BMI = weight / (height ** 2)\n",
        "\n",
        "a = float(input(\"enter your height\"))\n",
        "b = int(input(\"enter your weight:\"))\n",
        "BMI = b/a**2\n",
        "if(BMI<18.5):\n",
        "  print(\"Underweight\")\n",
        "elif(18.5<=BMI<24.9):\n",
        "  print(\"Normal weight\")\n",
        "elif(25<=BMI<29.9):\n",
        "  print(\"Overweight\")\n",
        "else:\n",
        "  print(\"Obesity\")"
      ]
    },
    {
      "cell_type": "code",
      "execution_count": null,
      "metadata": {
        "colab": {
          "base_uri": "https://localhost:8080/"
        },
        "id": "3W7N5jKHB-7i",
        "outputId": "d143b96c-e5e4-44c5-a62f-2afcb8089396"
      },
      "outputs": [
        {
          "name": "stdout",
          "output_type": "stream",
          "text": [
            "senior\n"
          ]
        }
      ],
      "source": [
        "#  Write a program that categorizes a given age into different groups:\n",
        "#  Infant (0-1 year)\n",
        "#  Toddler (2-4 years)\n",
        "#  Child (5-12 years)\n",
        "#  Teenager (13-19 years)\n",
        "#  Adult (20-59 years)\n",
        "#  Senior (60 years and above)\n",
        "\n",
        "a = 60\n",
        "if(0<=a<=1):\n",
        "  print('Infant')\n",
        "elif(2<=a<=4):\n",
        "  print('Toddler')\n",
        "elif(5<=a<=12):\n",
        "  print('child')\n",
        "elif(13<=a<=19):\n",
        "  print('Teenager')\n",
        "elif(20<=a<=59):\n",
        "  print('Adult')\n",
        "else:\n",
        "  print('senior')\n"
      ]
    },
    {
      "cell_type": "code",
      "execution_count": null,
      "metadata": {
        "colab": {
          "base_uri": "https://localhost:8080/"
        },
        "id": "_e5t8EA0FS_e",
        "outputId": "4e372612-e42a-40da-b092-e28e5f4da1eb"
      },
      "outputs": [
        {
          "name": "stdout",
          "output_type": "stream",
          "text": [
            "enter a number:3\n",
            "wednesday\n"
          ]
        }
      ],
      "source": [
        "#  Write a program that takes an integer (1-7) as input and prints the corresponding day of the week (1\n",
        "#  for Monday, 2 for Tuesday, etc.).\n",
        "\n",
        "a = int(input('enter a number:'))\n",
        "if(a==7):\n",
        "  print('sunday')\n",
        "elif(a==1):\n",
        "  print('monday')\n",
        "elif(a==2):\n",
        "  print('tuesday')\n",
        "elif(a==3):\n",
        "  print('wednesday')\n",
        "elif(a==4):\n",
        "  print('thursday')\n",
        "elif(a==5):\n",
        "  print('friday')\n",
        "elif(a==6):\n",
        "  print('saturday')\n"
      ]
    },
    {
      "cell_type": "code",
      "execution_count": null,
      "metadata": {
        "colab": {
          "base_uri": "https://localhost:8080/"
        },
        "id": "j3bSqk6wG30S",
        "outputId": "ca53c193-0b07-4711-9460-3e4a2b745c06"
      },
      "outputs": [
        {
          "name": "stdout",
          "output_type": "stream",
          "text": [
            "name of month:may\n",
            "31 days\n"
          ]
        }
      ],
      "source": [
        "#  Write a program that takes the name of a month as input and prints the number of days in that\n",
        "#  month. Consider leap years for February.\n",
        "\n",
        "a = input('name of month:')\n",
        "if(a in ('january','march','may','july','august','october','december')):\n",
        "  print('31 days')\n",
        "elif(a in ('april','june','september','november')):\n",
        "  print('30 days')\n",
        "else:\n",
        "  print('28,29 days')"
      ]
    },
    {
      "cell_type": "code",
      "execution_count": null,
      "metadata": {
        "colab": {
          "background_save": true
        },
        "id": "t31k62AidhDc"
      },
      "outputs": [],
      "source": []
    }
  ],
  "metadata": {
    "colab": {
      "provenance": [],
      "authorship_tag": "ABX9TyNVzMBZzw084ZMma8vasoOK",
      "include_colab_link": true
    },
    "kernelspec": {
      "display_name": "Python 3",
      "name": "python3"
    },
    "language_info": {
      "name": "python"
    }
  },
  "nbformat": 4,
  "nbformat_minor": 0
}